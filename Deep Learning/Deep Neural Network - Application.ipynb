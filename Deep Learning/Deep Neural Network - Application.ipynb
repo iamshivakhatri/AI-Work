{
 "cells": [
  {
   "cell_type": "code",
   "execution_count": 1,
   "id": "9bf3b0ea",
   "metadata": {},
   "outputs": [],
   "source": [
    "import numpy as np\n",
    "import h5py\n",
    "import matplotlib.pyplot as plt\n",
    "from dnn_utils import sigmoid, sigmoid_backward, relu, relu_backward\n",
    "\n",
    "import copy\n",
    "%matplotlib inline\n",
    "plt.rcParams['figure.figsize'] = (5.0, 4.0) # set default size of plots\n",
    "plt.rcParams['image.interpolation'] = 'nearest'\n",
    "plt.rcParams['image.cmap'] = 'gray'\n",
    "\n",
    "%load_ext autoreload\n",
    "%autoreload 2\n",
    "\n",
    "np.random.seed(1)"
   ]
  },
  {
   "cell_type": "code",
   "execution_count": 2,
   "id": "b271dbe8",
   "metadata": {},
   "outputs": [],
   "source": [
    "def initialize_parameters_deep(layer_dims):\n",
    "    np.random.seed(3)\n",
    "    parameters = {}\n",
    "    \n",
    "    L = len(layer_dims) # Number of layers in the network including the input layers\n",
    "    \n",
    "    for l in range(1, L): # Loops from second element to last element in layer_dims excluding the first layer\n",
    "\n",
    "        # Shape of W will always be(no of neuron in given layer, number of neuron or input features in previous layer)\n",
    "        parameters['W'+ str(l)] = np.random.randn(layer_dims[l], layer_dims[l-1]) * 0.01\n",
    "        \n",
    "        # Shape of b will always be(no of neuron in given layer, 1)\n",
    "        parameters['b'+ str(l)] = np.zeros((layer_dims[l], 1))\n",
    "        \n",
    "  \n",
    "        \n",
    "    return parameters\n",
    "    \n"
   ]
  },
  {
   "cell_type": "code",
   "execution_count": 3,
   "id": "d5fcdd59",
   "metadata": {},
   "outputs": [],
   "source": [
    "def linear_activation_forward(A_prev, W, b, activation):\n",
    "\n",
    "    \n",
    "    # Usually we use sigmoid at the last layer to convert our previous A into 0s and 1s\n",
    "    if activation == 'sigmoid':\n",
    "        Z, linear_cache = np.dot(W, A_prev) + b, (A_prev, W, b)\n",
    "        A, activation_cache = sigmoid(Z)\n",
    "        \n",
    "    elif activation == \"relu\":\n",
    "        Z, linear_cache = np.dot(W, A_prev) + b, (A_prev, W, b)\n",
    "        A, activation_cache = relu(Z)\n",
    "        \n",
    "    cache = (linear_cache, activation_cache)\n",
    "    \n",
    "    return A, cache\n"
   ]
  },
  {
   "cell_type": "code",
   "execution_count": 4,
   "id": "142c0c3f",
   "metadata": {},
   "outputs": [],
   "source": [
    "# Forward Propagation which calculates the Activation function of last layer when X is provided with parameters\n",
    "def L_model_forward(X, parameters):\n",
    "    \n",
    "    L = len(parameters)//2\n",
    "    caches = []\n",
    "    A = X # it starts with datasets and then convert into As as we go deep in the network\n",
    "    for l in range(1, L): # Loops from 1 to the total_layer - 1\n",
    "        A_prev = A # Necessary step to hold the calculated As, at begining it holds the X dataset\n",
    "        \n",
    "        # Calls linear_activation_forward for all the layer to get A and pass that A to get another A for another layer\n",
    "        A, cache = linear_activation_forward(A_prev, parameters['W'+ str(l)], parameters['b'+ str(l)], activation = \"relu\")\n",
    "        \n",
    "        # Append the cache\n",
    "        caches.append(cache)\n",
    "        \n",
    "                \n",
    "    # Calculating the A (AL) for last layer with sigmoid function, it is also done by sigmoid, At last A will be the A_prev\n",
    "    AL, cache = linear_activation_forward(A, parameters['W'+ str(L)], parameters['b'+ str(L)], activation=\"sigmoid\")\n",
    "    caches.append(cache)\n",
    "    \n",
    "    return AL, caches\n",
    "    \n",
    "        \n",
    "        \n",
    "\n",
    "    "
   ]
  },
  {
   "cell_type": "code",
   "execution_count": 5,
   "id": "30bbb1bc",
   "metadata": {},
   "outputs": [],
   "source": [
    "def compute_cost(AL, Y):\n",
    "    m = Y.shape[1]\n",
    "    \n",
    "    logsprob = np.multiply(Y, np.log(AL))+np.multiply((1-Y), np.log(1-AL))\n",
    "    cost = -np.sum(logsprob)/m\n",
    "    \n",
    "    cost = np.squeeze(cost)\n",
    "    \n",
    "    return cost"
   ]
  },
  {
   "cell_type": "code",
   "execution_count": 6,
   "id": "fff67796",
   "metadata": {},
   "outputs": [],
   "source": [
    "def linear_backward(dZ, cache):\n",
    "    \n",
    "    A_prev, W, b = cache\n",
    "    m = A_prev.shape[1]\n",
    "    \n",
    "    dW = np.dot(dZ, A_prev.T)/m\n",
    "    db = np.sum(dZ, axis =1, keepdims=True)/m\n",
    "    dA_prev = np.dot(W.T, dZ)\n",
    "    \n",
    "    return dA_prev, dW, db\n",
    "    \n",
    "    "
   ]
  },
  {
   "cell_type": "code",
   "execution_count": 7,
   "id": "1e8a9bce",
   "metadata": {},
   "outputs": [],
   "source": [
    "def linear_activation_backward(dA, cache, activation):\n",
    "    \n",
    "    linear_cache, activation_cache = cache\n",
    "    \n",
    "    if activation == \"relu\":\n",
    "        dZ = relu_backward(dA, activation_cache)\n",
    "        dA_prev, dW, db = linear_backward(dZ, linear_cache)\n",
    "        \n",
    "    elif activation == \"sigmoid\":\n",
    "        dZ = sigmoid_backward(dA, activation_cache) # activation cache is Z which helps to get dZ\n",
    "        dA_prev, dW, db = linear_backward(dZ, linear_cache) # linear_cache are (A_prev, W, b) for the given layer\n",
    "\n",
    "    return dA_prev, dW, db\n"
   ]
  },
  {
   "cell_type": "code",
   "execution_count": 8,
   "id": "b32ab218",
   "metadata": {},
   "outputs": [],
   "source": [
    "# Calculates every dA, dW and db for every layer, Backward propagation\n",
    "\n",
    "def L_model_backward(AL, Y, caches):\n",
    "    grads = {} # it will hold all the calculated dA, dW, db for each layer\n",
    "    L = len(caches) # number of layers\n",
    "    m = AL.shape[1]\n",
    "    Y = Y.reshape(AL.shape) # making sure they have same shape, they should have same shape by default\n",
    "    \n",
    "    dAL = -(np.divide(Y, AL) - np.divide(1-Y, 1-AL))\n",
    "    \n",
    "    current_cache = caches[L-1] # second last cache element\n",
    "    \n",
    "    dA_prev_temp, dW_temp, db_temp = linear_activation_backward(dAL, current_cache, activation=\"sigmoid\")\n",
    "    grads[\"dA\"+str(L-1)] = dA_prev_temp\n",
    "    grads['dW'+str(L)] = dW_temp # calculates dW for last layer\n",
    "    grads['db'+str(L)] = db_temp # calculates db for last layer\n",
    "    \n",
    "    # Loop from l = L-2 to 0 as range(L-1) = (0, L-1) but not L-1 so when reversed it is L-1 to 0\n",
    "    for l in reversed(range(L-1)): # third last layer\n",
    "        \n",
    "        current_cache = caches[l]\n",
    "        \n",
    "        dA_prev_temp, dW_temp, db_temp = linear_activation_backward(grads[\"dA\" + str(l + 1)], current_cache, activation=\"relu\")\n",
    "        grads['dA'+ str(l)] = dA_prev_temp # for the third last layer when loop executes first time\n",
    "        grads['dW'+ str(l+1)] = dW_temp # calculates dW of second last layer when loop executes first time\n",
    "        grads['db'+ str(l+1)] = db_temp # calculates db of second last layer when loop executes first time\n",
    "        \n",
    "    \n",
    "    return grads\n",
    "        \n",
    "    \n",
    "    \n",
    "    "
   ]
  },
  {
   "cell_type": "markdown",
   "id": "c6b08973",
   "metadata": {},
   "source": [
    "    "
   ]
  },
  {
   "cell_type": "code",
   "execution_count": 9,
   "id": "65ae0cb8",
   "metadata": {},
   "outputs": [],
   "source": [
    "\n",
    "def update_parameters(params, grads, learning_rate):\n",
    "    parameters = copy.deepcopy(params)\n",
    "    L = len(parameters)//2\n",
    "    \n",
    "    for l in range(L): # Loops from 0 to L-1\n",
    "        # first layer when loop executes firs times when l = 0 so using l+1 for 1\n",
    "        parameters[\"W\" + str(l+1)] = parameters['W' + str(l+1)] - learning_rate * grads['dW' + str(l+1)]\n",
    "        \n",
    "        # first layer when loop executes first time\n",
    "        parameters['b' + str(l+1)] = parameters['b' + str(l+1)] - learning_rate * grads['db'+ str(l+1)]\n",
    "        \n",
    "    return parameters\n",
    "\n",
    "        "
   ]
  },
  {
   "cell_type": "code",
   "execution_count": 10,
   "id": "5f4eae70",
   "metadata": {},
   "outputs": [],
   "source": [
    "def load_dataset():\n",
    "\n",
    "    with h5py.File('datasets/train_catvnoncat.h5', \"r\") as train_dataset:\n",
    "        train_set_x_orig = np.array(train_dataset[\"train_set_x\"][:])\n",
    "        train_set_y_orig = np.array(train_dataset[\"train_set_y\"][:])\n",
    "\n",
    "    with h5py.File('datasets/test_catvnoncat.h5', \"r\") as test_dataset:\n",
    "        test_set_x_orig = np.array(test_dataset[\"test_set_x\"][:])\n",
    "        test_set_y_orig = np.array(test_dataset[\"test_set_y\"][:])\n",
    "        classes = np.array(test_dataset[\"list_classes\"][:])\n",
    "\n",
    "    train_set_y_orig = train_set_y_orig.reshape((1, train_set_y_orig.shape[0]))\n",
    "    test_set_y_orig = test_set_y_orig.reshape((1, test_set_y_orig.shape[0]))\n",
    "\n",
    "    return train_set_x_orig, train_set_y_orig, test_set_x_orig, test_set_y_orig, classes\n",
    "\n"
   ]
  },
  {
   "cell_type": "code",
   "execution_count": 11,
   "id": "88e92de6",
   "metadata": {},
   "outputs": [],
   "source": [
    "train_set_x_orig, train_set_y, test_set_x_orig, test_set_y, classes = load_dataset()\n",
    "# Preprocess the input data\n",
    "train_set_x_flatten = train_set_x_orig.reshape(train_set_x_orig.shape[0], -1).T\n",
    "train_set_x = train_set_x_flatten / 255.\n"
   ]
  },
  {
   "cell_type": "code",
   "execution_count": 20,
   "id": "36d6fff7",
   "metadata": {},
   "outputs": [],
   "source": [
    "def L_layer_model(X, Y, layers_dims, learning_rate=0.05, num_iterations=3000, print_cost=False):\n",
    "    \n",
    "    np.random.seed(1)\n",
    "    costs = []\n",
    "    \n",
    "    # Initialize the parameters (W,b)\n",
    "    parameters = initialize_parameters_deep(layers_dims)\n",
    "    \n",
    "    for i in range(0, num_iterations):\n",
    "        \n",
    "        # Forward Propagation\n",
    "        AL, caches = L_model_forward(X, parameters)\n",
    "        \n",
    "        \n",
    "        # Calculates the cost\n",
    "        cost = compute_cost(AL, Y)\n",
    "        \n",
    "        # Backward Propagation\n",
    "        grads = L_model_backward(AL, Y, caches)\n",
    "        \n",
    "        parameters = update_parameters(parameters, grads, learning_rate)\n",
    "        \n",
    "        # Prints out the cost every 100 iterations and for the second last iteration\n",
    "        if print_cost and (i % 100 == 0 or i == num_iterations - 1):\n",
    "            print(\"Cost after iteration {}: {}\".format(i, np.squeeze(cost)))\n",
    "            \n",
    "        # Appends the cost to the cost's list every 100 iterations\n",
    "        if i % 100 == 0 or i == num_iterations:\n",
    "            costs.append(cost)\n",
    "        \n",
    "    return parameters, costs\n",
    "\n",
    "            \n",
    "        \n",
    "        \n",
    "    "
   ]
  },
  {
   "cell_type": "code",
   "execution_count": 21,
   "id": "36497df4",
   "metadata": {},
   "outputs": [
    {
     "name": "stdout",
     "output_type": "stream",
     "text": [
      "Cost after iteration 0: 0.6931477726958\n",
      "Cost after iteration 100: 0.6483802398977302\n",
      "Cost after iteration 200: 0.6444054954304754\n",
      "Cost after iteration 300: 0.6440175366032996\n",
      "Cost after iteration 400: 0.643978230775956\n",
      "Cost after iteration 500: 0.6439741984111129\n",
      "Cost after iteration 600: 0.6439737829119738\n",
      "Cost after iteration 700: 0.6439737398944246\n",
      "Cost after iteration 800: 0.6439737352944986\n",
      "Cost after iteration 900: 0.6439737346548933\n",
      "Cost after iteration 1000: 0.6439737344326631\n",
      "Cost after iteration 1100: 0.6439737342571766\n",
      "Cost after iteration 1200: 0.6439737340891096\n",
      "Cost after iteration 1300: 0.6439737339220426\n",
      "Cost after iteration 1400: 0.6439737337544459\n",
      "Cost after iteration 1500: 0.643973733587361\n",
      "Cost after iteration 1600: 0.6439737334204769\n",
      "Cost after iteration 1700: 0.6439737332553768\n",
      "Cost after iteration 1800: 0.6439737330910934\n",
      "Cost after iteration 1900: 0.6439737329254571\n",
      "Cost after iteration 2000: 0.6439737327606817\n",
      "Cost after iteration 2100: 0.6439737325982918\n",
      "Cost after iteration 2200: 0.6439737324339659\n",
      "Cost after iteration 2300: 0.6439737322675452\n",
      "Cost after iteration 2400: 0.6439737321018544\n",
      "Cost after iteration 2499: 0.6439737319299184\n"
     ]
    }
   ],
   "source": [
    "layers_dims = [12288, 20, 7, 5, 1] #  4-layer model\n",
    "\n",
    "parameters, costs = L_layer_model(train_set_x, train_set_y, layers_dims, num_iterations = 2500, print_cost = True)"
   ]
  },
  {
   "cell_type": "code",
   "execution_count": 14,
   "id": "bda7033f",
   "metadata": {},
   "outputs": [],
   "source": [
    "# Function to plot the cost\n",
    "def plot_cost(costs, learning_rate=0.0075):\n",
    "    plt.plot(np.squeeze(costs))\n",
    "    plt.ylabel('Cost')\n",
    "    plt.xlabel('Iterations (per hundreds)')\n",
    "    plt.title(f\"Learning rate = {learning_rate}\")\n",
    "    plt.show()"
   ]
  },
  {
   "cell_type": "code",
   "execution_count": 15,
   "id": "d7a55387",
   "metadata": {},
   "outputs": [
    {
     "data": {
      "image/png": "[encoded data removed]",
      "text/plain": [
       "<Figure size 500x400 with 1 Axes>"
      ]
     },
     "metadata": {},
     "output_type": "display_data"
    }
   ],
   "source": [
    "# Plot the cost\n",
    "plot_cost(costs)"
   ]
  },
  {
   "cell_type": "code",
   "execution_count": null,
   "id": "7dc457bf",
   "metadata": {},
   "outputs": [],
   "source": []
  }
 ],
 "metadata": {
  "kernelspec": {
   "display_name": "Python 3 (ipykernel)",
   "language": "python",
   "name": "python3"
  },
  "language_info": {
   "codemirror_mode": {
    "name": "ipython",
    "version": 3
   },
   "file_extension": ".py",
   "mimetype": "text/x-python",
   "name": "python",
   "nbconvert_exporter": "python",
   "pygments_lexer": "ipython3",
   "version": "3.11.5"
  }
 },
 "nbformat": 4,
 "nbformat_minor": 5
}
